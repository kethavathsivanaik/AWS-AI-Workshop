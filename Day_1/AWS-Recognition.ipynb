{
 "cells": [
  {
   "cell_type": "code",
   "execution_count": 4,
   "metadata": {},
   "outputs": [],
   "source": [
    "# Step 1: Capture Image from WebCam "
   ]
  },
  {
   "cell_type": "code",
   "execution_count": 27,
   "metadata": {},
   "outputs": [],
   "source": [
    "region = 'ap-south-1'"
   ]
  },
  {
   "cell_type": "code",
   "execution_count": 5,
   "metadata": {},
   "outputs": [],
   "source": [
    "# to install cv2: pip install opencv-python\n",
    "import cv2"
   ]
  },
  {
   "cell_type": "code",
   "execution_count": 6,
   "metadata": {},
   "outputs": [],
   "source": [
    "# captures from cam 0 and store in cap variable \n",
    "cap = cv2.VideoCapture(0)"
   ]
  },
  {
   "cell_type": "code",
   "execution_count": 7,
   "metadata": {},
   "outputs": [],
   "source": [
    "status, photo = cap.read()"
   ]
  },
  {
   "cell_type": "code",
   "execution_count": 8,
   "metadata": {},
   "outputs": [],
   "source": [
    "myphoto = \"siva.jpg\"\n",
    "cv2.imwrite( myphoto , photo)\n",
    "cap.release()"
   ]
  },
  {
   "cell_type": "code",
   "execution_count": null,
   "metadata": {},
   "outputs": [],
   "source": []
  },
  {
   "cell_type": "code",
   "execution_count": 9,
   "metadata": {},
   "outputs": [
    {
     "data": {
      "text/plain": [
       "True"
      ]
     },
     "execution_count": 9,
     "metadata": {},
     "output_type": "execute_result"
    }
   ],
   "source": [
    "status"
   ]
  },
  {
   "cell_type": "code",
   "execution_count": 10,
   "metadata": {},
   "outputs": [
    {
     "name": "stdout",
     "output_type": "stream",
     "text": [
      " Volume in drive C has no label.\n",
      " Volume Serial Number is 6497-5BD4\n",
      "\n",
      " Directory of C:\\Users\\Siva Naik\\Desktop\\ARTH\\AWS-AI\\Day_1\n",
      "\n",
      "04/03/2021  05:06 PM    <DIR>          .\n",
      "04/03/2021  05:06 PM    <DIR>          ..\n",
      "04/03/2021  04:55 PM    <DIR>          .ipynb_checkpoints\n",
      "04/03/2021  05:06 PM             2,187 AWS-Rek.ipynb\n",
      "04/03/2021  05:08 PM            54,962 siva.jpg\n",
      "               2 File(s)         57,149 bytes\n",
      "               3 Dir(s)   1,977,466,880 bytes free\n"
     ]
    }
   ],
   "source": [
    "!dir"
   ]
  },
  {
   "cell_type": "code",
   "execution_count": null,
   "metadata": {},
   "outputs": [],
   "source": []
  },
  {
   "cell_type": "code",
   "execution_count": 11,
   "metadata": {},
   "outputs": [],
   "source": [
    "#Step 2: Upload to AWS Storage: S3. We have to create a S3 bucket "
   ]
  },
  {
   "cell_type": "code",
   "execution_count": 12,
   "metadata": {},
   "outputs": [],
   "source": [
    "import boto3"
   ]
  },
  {
   "cell_type": "code",
   "execution_count": 13,
   "metadata": {},
   "outputs": [],
   "source": [
    "s3 = boto3.resource('s3')"
   ]
  },
  {
   "cell_type": "code",
   "execution_count": 14,
   "metadata": {},
   "outputs": [],
   "source": [
    "#Step 2.1: Create s3 bucket "
   ]
  },
  {
   "cell_type": "code",
   "execution_count": 15,
   "metadata": {},
   "outputs": [
    {
     "name": "stdout",
     "output_type": "stream",
     "text": [
      "Enter bucket name: myawsaiworkshopbucket12309\n"
     ]
    }
   ],
   "source": [
    "bucket_name = input(\"Enter bucket name: \")"
   ]
  },
  {
   "cell_type": "code",
   "execution_count": 28,
   "metadata": {},
   "outputs": [
    {
     "name": "stdout",
     "output_type": "stream",
     "text": [
      "Enter Default Region: ap-south-1\n"
     ]
    }
   ],
   "source": [
    "region = input(\"Enter Default Region: \")"
   ]
  },
  {
   "cell_type": "code",
   "execution_count": 16,
   "metadata": {},
   "outputs": [
    {
     "data": {
      "text/plain": [
       "'myawsaiworkshopbucket12309'"
      ]
     },
     "execution_count": 16,
     "metadata": {},
     "output_type": "execute_result"
    }
   ],
   "source": [
    "bucket_name"
   ]
  },
  {
   "cell_type": "code",
   "execution_count": 20,
   "metadata": {},
   "outputs": [
    {
     "data": {
      "text/plain": [
       "s3.Bucket(name='myawsaiworkshopbucket12309')"
      ]
     },
     "execution_count": 20,
     "metadata": {},
     "output_type": "execute_result"
    }
   ],
   "source": [
    "s3.create_bucket(Bucket=bucket_name, CreateBucketConfiguration={\n",
    "    'LocationConstraint': region })"
   ]
  },
  {
   "cell_type": "code",
   "execution_count": null,
   "metadata": {},
   "outputs": [],
   "source": [
    "#step 2.2: Upload Image "
   ]
  },
  {
   "cell_type": "code",
   "execution_count": 24,
   "metadata": {},
   "outputs": [],
   "source": [
    "#file upload to bucket created with default name\n",
    "s3.Bucket(bucket_name).upload_file(myphoto, myphoto)"
   ]
  },
  {
   "cell_type": "code",
   "execution_count": null,
   "metadata": {},
   "outputs": [],
   "source": []
  },
  {
   "cell_type": "code",
   "execution_count": 25,
   "metadata": {},
   "outputs": [],
   "source": [
    "#Step 3: connect with rekognition to detect the labels "
   ]
  },
  {
   "cell_type": "code",
   "execution_count": 29,
   "metadata": {},
   "outputs": [],
   "source": [
    "recognition = boto3.client('rekognition', region)"
   ]
  },
  {
   "cell_type": "code",
   "execution_count": 42,
   "metadata": {},
   "outputs": [],
   "source": [
    "response = recognition.detect_labels(\n",
    "\n",
    " Image={\n",
    "          'S3Object': {\n",
    "              'Bucket': bucket_name,\n",
    "              'Name': myphoto,\n",
    "          }\n",
    "      },\n",
    "      MaxLabels=10,\n",
    "      MinConfidence=60\n",
    "    \n",
    ")"
   ]
  },
  {
   "cell_type": "code",
   "execution_count": 38,
   "metadata": {},
   "outputs": [
    {
     "data": {
      "text/plain": [
       "'myawsaiworkshopbucket12309'"
      ]
     },
     "execution_count": 38,
     "metadata": {},
     "output_type": "execute_result"
    }
   ],
   "source": [
    "bucket_name"
   ]
  },
  {
   "cell_type": "code",
   "execution_count": 39,
   "metadata": {},
   "outputs": [
    {
     "data": {
      "text/plain": [
       "'siva.jpg'"
      ]
     },
     "execution_count": 39,
     "metadata": {},
     "output_type": "execute_result"
    }
   ],
   "source": [
    "myphoto"
   ]
  },
  {
   "cell_type": "code",
   "execution_count": 43,
   "metadata": {},
   "outputs": [
    {
     "data": {
      "text/plain": [
       "{'Labels': [{'Name': 'Glasses',\n",
       "   'Confidence': 99.60846710205078,\n",
       "   'Instances': [{'BoundingBox': {'Width': 0.3079818785190582,\n",
       "      'Height': 0.13540419936180115,\n",
       "      'Left': 0.4002363681793213,\n",
       "      'Top': 0.7128133773803711},\n",
       "     'Confidence': 99.60846710205078}],\n",
       "   'Parents': [{'Name': 'Accessories'}]},\n",
       "  {'Name': 'Accessories',\n",
       "   'Confidence': 99.60846710205078,\n",
       "   'Instances': [],\n",
       "   'Parents': []},\n",
       "  {'Name': 'Person',\n",
       "   'Confidence': 98.51616668701172,\n",
       "   'Instances': [{'BoundingBox': {'Width': 0.4250863194465637,\n",
       "      'Height': 0.5545668005943298,\n",
       "      'Left': 0.33554261922836304,\n",
       "      'Top': 0.4300050139427185},\n",
       "     'Confidence': 98.51616668701172}],\n",
       "   'Parents': []},\n",
       "  {'Name': 'Hair',\n",
       "   'Confidence': 97.53934478759766,\n",
       "   'Instances': [],\n",
       "   'Parents': []},\n",
       "  {'Name': 'Face',\n",
       "   'Confidence': 97.02254486083984,\n",
       "   'Instances': [],\n",
       "   'Parents': [{'Name': 'Person'}]},\n",
       "  {'Name': 'Head',\n",
       "   'Confidence': 96.26929473876953,\n",
       "   'Instances': [],\n",
       "   'Parents': []},\n",
       "  {'Name': 'Musician',\n",
       "   'Confidence': 69.61871337890625,\n",
       "   'Instances': [],\n",
       "   'Parents': [{'Name': 'Person'}, {'Name': 'Musical Instrument'}]},\n",
       "  {'Name': 'Musical Instrument',\n",
       "   'Confidence': 69.61871337890625,\n",
       "   'Instances': [],\n",
       "   'Parents': []},\n",
       "  {'Name': 'Portrait',\n",
       "   'Confidence': 67.67493438720703,\n",
       "   'Instances': [],\n",
       "   'Parents': [{'Name': 'Face'}, {'Name': 'Photography'}, {'Name': 'Person'}]},\n",
       "  {'Name': 'Photography',\n",
       "   'Confidence': 67.67493438720703,\n",
       "   'Instances': [],\n",
       "   'Parents': [{'Name': 'Person'}]}],\n",
       " 'LabelModelVersion': '2.0',\n",
       " 'ResponseMetadata': {'RequestId': '0a062693-ec46-4ab7-a788-bcd369fc169b',\n",
       "  'HTTPStatusCode': 200,\n",
       "  'HTTPHeaders': {'content-type': 'application/x-amz-json-1.1',\n",
       "   'date': 'Sat, 03 Apr 2021 12:03:23 GMT',\n",
       "   'x-amzn-requestid': '0a062693-ec46-4ab7-a788-bcd369fc169b',\n",
       "   'content-length': '1298',\n",
       "   'connection': 'keep-alive'},\n",
       "  'RetryAttempts': 0}}"
      ]
     },
     "execution_count": 43,
     "metadata": {},
     "output_type": "execute_result"
    }
   ],
   "source": [
    "response"
   ]
  },
  {
   "cell_type": "code",
   "execution_count": null,
   "metadata": {},
   "outputs": [],
   "source": []
  },
  {
   "cell_type": "code",
   "execution_count": 47,
   "metadata": {},
   "outputs": [
    {
     "name": "stdout",
     "output_type": "stream",
     "text": [
      "Glasses\n",
      "Accessories\n",
      "Person\n",
      "Hair\n",
      "Face\n"
     ]
    }
   ],
   "source": [
    "for i in range(5):\n",
    "    print(response['Labels'][i]['Name'])"
   ]
  },
  {
   "cell_type": "code",
   "execution_count": null,
   "metadata": {},
   "outputs": [],
   "source": []
  },
  {
   "cell_type": "code",
   "execution_count": null,
   "metadata": {},
   "outputs": [],
   "source": []
  },
  {
   "cell_type": "code",
   "execution_count": 44,
   "metadata": {},
   "outputs": [],
   "source": [
    "# Recognition "
   ]
  },
  {
   "cell_type": "code",
   "execution_count": null,
   "metadata": {},
   "outputs": [],
   "source": []
  },
  {
   "cell_type": "code",
   "execution_count": null,
   "metadata": {},
   "outputs": [],
   "source": []
  }
 ],
 "metadata": {
  "kernelspec": {
   "display_name": "Python 3",
   "language": "python",
   "name": "python3"
  },
  "language_info": {
   "codemirror_mode": {
    "name": "ipython",
    "version": 3
   },
   "file_extension": ".py",
   "mimetype": "text/x-python",
   "name": "python",
   "nbconvert_exporter": "python",
   "pygments_lexer": "ipython3",
   "version": "3.8.5"
  }
 },
 "nbformat": 4,
 "nbformat_minor": 4
}
